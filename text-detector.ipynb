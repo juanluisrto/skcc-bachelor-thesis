{
 "cells": [
  {
   "cell_type": "code",
   "execution_count": 2,
   "metadata": {},
   "outputs": [
    {
     "name": "stdout",
     "output_type": "stream",
     "text": [
      "The autoreload extension is already loaded. To reload it, use:\n",
      "  %reload_ext autoreload\n"
     ]
    }
   ],
   "source": [
    "import tensorflow\n",
    "import numpy as np\n",
    "import matplotlib.pyplot as plt\n",
    "from ipywidgets import interact\n",
    "\n",
    "%matplotlib inline\n",
    "%load_ext autoreload\n",
    "%autoreload 2"
   ]
  },
  {
   "cell_type": "markdown",
   "metadata": {},
   "source": [
    "# Define model"
   ]
  },
  {
   "cell_type": "code",
   "execution_count": 3,
   "metadata": {},
   "outputs": [],
   "source": [
    "from tensorflow.python.keras.models import Sequential\n",
    "from tensorflow.python.keras.layers import Activation\n",
    "from tensorflow.python.keras.layers import Conv2D, MaxPooling2D\n",
    "\n",
    "def text_detection_model(channels=8):\n",
    "    \"\"\" Defines a simple CNN that inputs an image and outputs a binary mask. \"\"\"\n",
    "\n",
    "    input_shape = (None, None, 1)\n",
    "    activation = 'relu'\n",
    "    padding = 'same'\n",
    "\n",
    "    model = Sequential()\n",
    "    model.add(Conv2D(channels, (5, 5), padding=padding, activation=activation, input_shape=input_shape))\n",
    "    model.add(Conv2D(channels, (5, 5), activation=activation, padding=padding))\n",
    "   \n",
    "    model.add(MaxPooling2D(pool_size=(2, 2)))\n",
    "    \n",
    "    model.add(Conv2D(channels, (5, 5), activation=activation, padding=padding))\n",
    "    model.add(Conv2D(channels * 2, (5, 5), activation=activation, padding=padding))\n",
    "    model.add(Conv2D(channels * 2, (5, 5), activation=activation, padding=padding))\n",
    "    model.add(Conv2D(channels * 2, (5, 5), activation=activation, padding=padding))\n",
    "    model.add(Conv2D(256, (1, 1), activation=activation, padding=padding))    \n",
    "\n",
    "    model.add(Conv2D(1, (1, 1), activation='sigmoid', padding=padding))\n",
    "\n",
    "    model.compile(loss='binary_crossentropy', optimizer='adam')\n",
    "\n",
    "    return model\n"
   ]
  },
  {
   "cell_type": "code",
   "execution_count": 4,
   "metadata": {},
   "outputs": [
    {
     "data": {
      "text/plain": [
       "<tensorflow.python.keras._impl.keras.models.Sequential at 0x7fbfde692e80>"
      ]
     },
     "execution_count": 4,
     "metadata": {},
     "output_type": "execute_result"
    }
   ],
   "source": [
    "text_detection_model()"
   ]
  },
  {
   "cell_type": "markdown",
   "metadata": {},
   "source": [
    "# Generate some data"
   ]
  },
  {
   "cell_type": "code",
   "execution_count": 5,
   "metadata": {},
   "outputs": [],
   "source": [
    "from data_generator import StringGenerator, StringImageBatchGenerator, StringRenderer\n",
    "\n",
    "string_generator = StringGenerator()\n",
    "string_renderer = StringRenderer(image_size=(160, 160),\n",
    "                                 target_size=(80, 80),\n",
    "                                 fonts_folder='fonts',\n",
    "                                 backgrounds_folder='backgrounds')\n",
    "data_generator = StringImageBatchGenerator(string_generator=string_generator, \n",
    "                                           string_renderer=string_renderer)\n"
   ]
  },
  {
   "cell_type": "code",
   "execution_count": 6,
   "metadata": {},
   "outputs": [],
   "source": [
    "images, targets = data_generator.get_batch(32)"
   ]
  },
  {
   "cell_type": "markdown",
   "metadata": {},
   "source": [
    "# Visualized data"
   ]
  },
  {
   "cell_type": "code",
   "execution_count": 7,
   "metadata": {},
   "outputs": [
    {
     "data": {
      "application/vnd.jupyter.widget-view+json": {
       "model_id": "2213817896124fa0b79effff6a8083fa",
       "version_major": 2,
       "version_minor": 0
      },
      "text/html": [
       "<p>Failed to display Jupyter Widget of type <code>interactive</code>.</p>\n",
       "<p>\n",
       "  If you're reading this message in Jupyter Notebook or JupyterLab, it may mean\n",
       "  that the widgets JavaScript is still loading. If this message persists, it\n",
       "  likely means that the widgets JavaScript library is either not installed or\n",
       "  not enabled. See the <a href=\"https://ipywidgets.readthedocs.io/en/stable/user_install.html\">Jupyter\n",
       "  Widgets Documentation</a> for setup instructions.\n",
       "</p>\n",
       "<p>\n",
       "  If you're reading this message in another notebook frontend (for example, a static\n",
       "  rendering on GitHub or <a href=\"https://nbviewer.jupyter.org/\">NBViewer</a>),\n",
       "  it may mean that your frontend doesn't currently support widgets.\n",
       "</p>\n"
      ],
      "text/plain": [
       "interactive(children=(IntSlider(value=15, description='i', max=31), Output()), _dom_classes=('widget-interact',))"
      ]
     },
     "metadata": {},
     "output_type": "display_data"
    }
   ],
   "source": [
    "def view_image(i):\n",
    "    image = images[i,:,:,0]\n",
    "    \n",
    "    print(image.shape)\n",
    "    target = targets[i,:,:,0]\n",
    "    plt.figure()\n",
    "    plt.imshow(image, cmap=plt.cm.gray_r, interpolation='bilinear')\n",
    "    plt.show()\n",
    "    plt.figure()\n",
    "    plt.imshow(target, cmap=plt.cm.gray_r, interpolation='bilinear')\n",
    "    plt.show()\n",
    "    \n",
    "q = interact(view_image, i=(0, len(images) - 1))"
   ]
  },
  {
   "cell_type": "markdown",
   "metadata": {},
   "source": [
    "# Create model"
   ]
  },
  {
   "cell_type": "code",
   "execution_count": 8,
   "metadata": {},
   "outputs": [
    {
     "name": "stdout",
     "output_type": "stream",
     "text": [
      "Building model\n"
     ]
    }
   ],
   "source": [
    "print(\"Building model\")\n",
    "model_channels = 16\n",
    "model = text_detection_model(model_channels)"
   ]
  },
  {
   "cell_type": "markdown",
   "metadata": {},
   "source": [
    "## Train model"
   ]
  },
  {
   "cell_type": "code",
   "execution_count": 28,
   "metadata": {},
   "outputs": [
    {
     "name": "stdout",
     "output_type": "stream",
     "text": [
      "Building model\n",
      "Generating validation set\n"
     ]
    }
   ],
   "source": [
    "from tensorflow.python.keras.callbacks import ModelCheckpoint\n",
    "\n",
    "steps_per_epoch = 8\n",
    "validation_image = 256\n",
    "num_epochs = 1\n",
    "\n",
    "print(\"Generating validation set\")\n",
    "val_data = data_generator.get_batch(256)\n",
    "\n",
    "check_point_callback = ModelCheckpoint('best_model.h5',\n",
    "                                       monitor='val_loss',\n",
    "                                       verbose=1,\n",
    "                                       save_best_only=True, \n",
    "                                       mode='auto')\n",
    "\n",
    "print(\"Starting training\")\n",
    "model.fit_generator(generator=data_generator.generate(),\n",
    "                    steps_per_epoch=steps_per_epoch,\n",
    "                    validation_data=val_data,\n",
    "                    epochs=num_epochs,\n",
    "                    verbose=1,\n",
    "                    callbacks=[check_point_callback])"
   ]
  },
  {
   "cell_type": "markdown",
   "metadata": {},
   "source": [
    "## Load pre-trained model"
   ]
  },
  {
   "cell_type": "code",
   "execution_count": 9,
   "metadata": {
    "scrolled": true
   },
   "outputs": [],
   "source": [
    "model.load_weights('best_model.h5')"
   ]
  },
  {
   "cell_type": "markdown",
   "metadata": {},
   "source": [
    "# View trained model predictions"
   ]
  },
  {
   "cell_type": "code",
   "execution_count": 10,
   "metadata": {
    "scrolled": true
   },
   "outputs": [],
   "source": [
    "def view_image(i):\n",
    "    image = images[i,:,:,0]\n",
    "    target = targets[i,:,:,0]\n",
    "    \n",
    "    plt.figure()\n",
    "    plt.imshow(image, cmap=plt.cm.gray_r, interpolation='bilinear')\n",
    "    plt.title('Input image')\n",
    "    plt.show()\n",
    "    \n",
    "    plt.figure()\n",
    "    plt.imshow(target, cmap=plt.cm.gray_r, interpolation='bilinear')\n",
    "    plt.title('Target')\n",
    "    plt.show()\n",
    "    \n",
    "    input_img = np.expand_dims(image, axis=2)\n",
    "    input_img = np.expand_dims(input_img, axis=0)\n",
    "    \n",
    "    prediction = model.predict(input_img)[0,:,:,0]\n",
    "    plt.figure()\n",
    "    plt.imshow(prediction, cmap=plt.cm.gray_r, interpolation='bilinear')\n",
    "    plt.title('Prediction')\n",
    "    plt.show()"
   ]
  },
  {
   "cell_type": "code",
   "execution_count": 11,
   "metadata": {},
   "outputs": [
    {
     "data": {
      "application/vnd.jupyter.widget-view+json": {
       "model_id": "8fbb1de5282c4ed48a84150c43d4e896",
       "version_major": 2,
       "version_minor": 0
      },
      "text/html": [
       "<p>Failed to display Jupyter Widget of type <code>interactive</code>.</p>\n",
       "<p>\n",
       "  If you're reading this message in Jupyter Notebook or JupyterLab, it may mean\n",
       "  that the widgets JavaScript is still loading. If this message persists, it\n",
       "  likely means that the widgets JavaScript library is either not installed or\n",
       "  not enabled. See the <a href=\"https://ipywidgets.readthedocs.io/en/stable/user_install.html\">Jupyter\n",
       "  Widgets Documentation</a> for setup instructions.\n",
       "</p>\n",
       "<p>\n",
       "  If you're reading this message in another notebook frontend (for example, a static\n",
       "  rendering on GitHub or <a href=\"https://nbviewer.jupyter.org/\">NBViewer</a>),\n",
       "  it may mean that your frontend doesn't currently support widgets.\n",
       "</p>\n"
      ],
      "text/plain": [
       "interactive(children=(IntSlider(value=15, description='i', max=31), Output()), _dom_classes=('widget-interact',))"
      ]
     },
     "metadata": {},
     "output_type": "display_data"
    }
   ],
   "source": [
    "q = interact(view_image, i=(0, len(images) - 1))"
   ]
  },
  {
   "cell_type": "code",
   "execution_count": 12,
   "metadata": {},
   "outputs": [
    {
     "data": {
      "application/vnd.jupyter.widget-view+json": {
       "model_id": "6bd3eaad872449d992de307acb649d83",
       "version_major": 2,
       "version_minor": 0
      },
      "text/html": [
       "<p>Failed to display Jupyter Widget of type <code>interactive</code>.</p>\n",
       "<p>\n",
       "  If you're reading this message in Jupyter Notebook or JupyterLab, it may mean\n",
       "  that the widgets JavaScript is still loading. If this message persists, it\n",
       "  likely means that the widgets JavaScript library is either not installed or\n",
       "  not enabled. See the <a href=\"https://ipywidgets.readthedocs.io/en/stable/user_install.html\">Jupyter\n",
       "  Widgets Documentation</a> for setup instructions.\n",
       "</p>\n",
       "<p>\n",
       "  If you're reading this message in another notebook frontend (for example, a static\n",
       "  rendering on GitHub or <a href=\"https://nbviewer.jupyter.org/\">NBViewer</a>),\n",
       "  it may mean that your frontend doesn't currently support widgets.\n",
       "</p>\n"
      ],
      "text/plain": [
       "interactive(children=(IntSlider(value=1, description='i', max=3), Output()), _dom_classes=('widget-interact',))"
      ]
     },
     "metadata": {},
     "output_type": "display_data"
    }
   ],
   "source": [
    "from skimage import io, transform\n",
    "import glob\n",
    "from image import normalize_pixels\n",
    "from ipywidgets import interact\n",
    "\n",
    "test_images_folder = 'test_images'\n",
    "\n",
    "test_image_files = list(glob.iglob('{}/*.jpg'.format(test_images_folder)))\n",
    "test_image_files += list(glob.iglob('{}/*.png'.format(test_images_folder)))\n",
    "test_image_files += list(glob.iglob('{}/*.jpeg'.format(test_images_folder)))\n",
    "\n",
    "IMAGE_WIDTH = 520\n",
    "\n",
    "\n",
    "def view_image(i):\n",
    "    \n",
    "    test_image_file = test_image_files[i]\n",
    "    test_image = io.imread(test_image_file, as_gray=True)\n",
    "\n",
    "    if test_image.shape[1] > IMAGE_WIDTH:\n",
    "        size = (np.int32(test_image.shape[0] * IMAGE_WIDTH / test_image.shape[1]), IMAGE_WIDTH)\n",
    "        test_image = np.float32(transform.resize(test_image, size, mode='reflect'))\n",
    "\n",
    "\n",
    "    image = normalize_pixels(test_image)\n",
    "    print(image.shape)\n",
    "    \n",
    "    plt.figure()\n",
    "    plt.imshow(image, cmap=plt.cm.gray_r, interpolation='bilinear')\n",
    "    plt.show()\n",
    "    \n",
    "    input_img = np.expand_dims(np.expand_dims(image, axis=2), axis=0)\n",
    "    prediction = model.predict(input_img)[0,:,:,0]\n",
    "    prediction[prediction < 0.2] = 0\n",
    "\n",
    "\n",
    "    plt.figure()\n",
    "    plt.imshow(prediction, cmap=plt.cm.gray_r, interpolation='bilinear')\n",
    "    plt.title('Prediction')\n",
    "    plt.show()\n",
    "    \n",
    "q = interact(view_image, i=(0, len(test_image_files) - 1))\n",
    "\n"
   ]
  },
  {
   "cell_type": "code",
   "execution_count": null,
   "metadata": {},
   "outputs": [],
   "source": []
  }
 ],
 "metadata": {
  "kernelspec": {
   "display_name": "Python 3",
   "language": "python",
   "name": "python3"
  },
  "language_info": {
   "codemirror_mode": {
    "name": "ipython",
    "version": 3
   },
   "file_extension": ".py",
   "mimetype": "text/x-python",
   "name": "python",
   "nbconvert_exporter": "python",
   "pygments_lexer": "ipython3",
   "version": "3.5.2"
  },
  "widgets": {
   "state": {
    "0a94ab43e9174d01a5b0a7491111d80f": {
     "views": []
    },
    "0c86afca9d3f4a54b2d31f451076abf9": {
     "views": []
    },
    "0e3cfb6d4c42440c847b675a16dc9f2e": {
     "views": []
    },
    "0e7c3102a6864e9690fa56de7e7e89ec": {
     "views": []
    },
    "0edc4a7738bf4211b76fcf43eeff5f9d": {
     "views": []
    },
    "1010307b7f7f482695f0c4e7b320f917": {
     "views": []
    },
    "10bf21dfd4644afabda6e33e10aa55b0": {
     "views": []
    },
    "12022ac58a7140d48b740c99fd5ae358": {
     "views": []
    },
    "12551afb424346ab8217efb6877cb07f": {
     "views": []
    },
    "15376da6057d40089da91b3aab3374f1": {
     "views": []
    },
    "163756c893b742d388a4a444eca06a80": {
     "views": []
    },
    "171fe67689214a5881381c7ccf836633": {
     "views": []
    },
    "17ce6f64851a472e9af639ca4696b16e": {
     "views": []
    },
    "1b462a5e34904a689cfde8b4cf2ff7ff": {
     "views": []
    },
    "1e5076deda654aceb437dcb26a447b4f": {
     "views": []
    },
    "20c633cf0ee248d898f0df732e53c5a5": {
     "views": []
    },
    "2407b9923d984400a62533097a77aa30": {
     "views": []
    },
    "25354ee747a94d91a2787c44f4e01799": {
     "views": []
    },
    "27265c4912ba417687a774d7b4f7c77d": {
     "views": []
    },
    "27e0e609045d4a06b2c4a80aabb2f3cd": {
     "views": []
    },
    "2802fc59f97d47798f2217c9169fc1c8": {
     "views": []
    },
    "28fc2ffd3a344f6ea7ddc012e4344120": {
     "views": []
    },
    "2beacab47a9345e7a7ede43aeab520d6": {
     "views": []
    },
    "2c8028350dcc44fdaea40ae22df00939": {
     "views": []
    },
    "2d539f87e0804a53aea2ad4380d74bae": {
     "views": []
    },
    "311c148f8926446fa150bcc87e564cd4": {
     "views": []
    },
    "3180b21df5bf46b181f69b49eb87e5c8": {
     "views": []
    },
    "327831744b2044f2bccea2d270faebe0": {
     "views": []
    },
    "33fdc38e08c0409a857f3659f45076bc": {
     "views": []
    },
    "34469688848b402f8ed8a25b6a0229e2": {
     "views": []
    },
    "3555321cba80429cabd99304230b1331": {
     "views": []
    },
    "356249d8a7b24da5bd7ed328ce905ce6": {
     "views": []
    },
    "3575e9c424374b779d8da3e3b14a9464": {
     "views": []
    },
    "377949ba43284b2bb4c458442dac7375": {
     "views": []
    },
    "39e556155fda4550abe1a25fdb248029": {
     "views": []
    },
    "3a69ab5c362548e8860283a3a3a85d9e": {
     "views": []
    },
    "3bccd9b4c85240f59babe3af2364b4ff": {
     "views": []
    },
    "3c6f75f50e8b468587e2827c7ac0e00f": {
     "views": []
    },
    "3fd71960c7854b17aa55994c6614ffa1": {
     "views": []
    },
    "413597f32c4b48749f58e868a1c98b72": {
     "views": []
    },
    "4210ec6a94f549c9bf42ca17a943b3ce": {
     "views": []
    },
    "42f57d402b3e4f14ae6bf2815bdadade": {
     "views": []
    },
    "439d357d4a834bb89b165613ee3dafd4": {
     "views": []
    },
    "44d4bfc1f3d14ad7beadb98493ed4baf": {
     "views": []
    },
    "44f04779f38641708c0d0c38af946b99": {
     "views": []
    },
    "467d72b64cc04ba8a850e6703ff68e57": {
     "views": []
    },
    "468d914df0a04f13acc728b0faae4d05": {
     "views": []
    },
    "48e4d1043be84ea3bbf1bb7d3e965128": {
     "views": []
    },
    "496985d09b544936913fe7c1af2c0a0d": {
     "views": []
    },
    "497cd6f6431f4b6293620a121c23883a": {
     "views": []
    },
    "4abe5c2545034f188a5ae804350fe209": {
     "views": []
    },
    "4c3e019bbad34c7e8e95b9cb33710162": {
     "views": []
    },
    "4d1095b0447d44ee9b630fc666746882": {
     "views": []
    },
    "4dbf104ebde741d2af736debd250e0d3": {
     "views": []
    },
    "4f0d00bc9807410fa6521ec0b44f9c9b": {
     "views": []
    },
    "51bbc256d66640f7996fe0d323bd268c": {
     "views": []
    },
    "52460c0f8a4f4989b1fd59310a35d105": {
     "views": []
    },
    "561803f925364d5d87a541e532a0ee99": {
     "views": []
    },
    "56bed6af2d7249409a0fbd0120482be7": {
     "views": []
    },
    "58b24b0978a644b0b04f2909bfdef038": {
     "views": [
      {
       "cell_index": 10
      }
     ]
    },
    "595e2215ffa0474eb66c916d19d49a6b": {
     "views": []
    },
    "5de101ec683d4f7bbd150bb7f32849a6": {
     "views": []
    },
    "5f2ffc9f16844caeb700ddb151f7c089": {
     "views": []
    },
    "5feb54b0583f4c0089ae6ebfa0fdfecf": {
     "views": []
    },
    "642f881f49794be4b7ab616fd2bcbc73": {
     "views": []
    },
    "6685243068fa47558e5e58b9a8e7c642": {
     "views": []
    },
    "66f73b1bad1142edbb4e66b2d77c0c3f": {
     "views": []
    },
    "6817d0c573b1426285585d901b1c344a": {
     "views": []
    },
    "682d1723c5da49fe94463f367eb641d2": {
     "views": []
    },
    "68a1eac2842a48f087599d224b259d9d": {
     "views": []
    },
    "6b5fa4539f4a44bcba9c6fabe7c14602": {
     "views": []
    },
    "6e13cc384e324b3c84c0e400b82583d0": {
     "views": []
    },
    "6e26ab4ee3dc49648bbbba015c29d6b0": {
     "views": []
    },
    "6e9f2b995a314aea8948324f067c2f51": {
     "views": []
    },
    "6f0cf86be618454fbc4dd31a52e8b870": {
     "views": []
    },
    "73b00e6c0c0041a99668044abbca843e": {
     "views": []
    },
    "75936a75f384462c840167c7ab4fe96d": {
     "views": []
    },
    "75a121b35dfe4f51b56a0535957a99b2": {
     "views": []
    },
    "7643ba4c99304358b4f27852d1669c57": {
     "views": []
    },
    "778bd5a85b6540bb9a4cdc0e0cb512be": {
     "views": []
    },
    "7a35fc04b8844722821a5e0e07a92a76": {
     "views": []
    },
    "7a8cc799f5a04b30bc47781956d46aa7": {
     "views": []
    },
    "7c12c2545c1d4f87a49ddc7c8f2116cc": {
     "views": []
    },
    "7dbd23db506f404d86d86af4c671e116": {
     "views": []
    },
    "7ed4363fa1654ef28425a5ff6826576f": {
     "views": []
    },
    "8199bcb8bdd34acf80f1d97a51d0734a": {
     "views": []
    },
    "81eea029ac984678af5f33b1a84dfcec": {
     "views": []
    },
    "82dcc92a57e148979a296df66d209af7": {
     "views": []
    },
    "8329af5af4934b299de5d5f8b0acad0a": {
     "views": []
    },
    "83c9378475f14f5b82ecf8a1a9515d16": {
     "views": []
    },
    "848242294d834054b4f81e3ae9a90ac7": {
     "views": []
    },
    "866c6f6821c144a0ad1b3f7397d76d52": {
     "views": []
    },
    "877647e1849949ee93ac6dbed7600296": {
     "views": []
    },
    "88ef4cbc02ea4f0bb64aa695670258e1": {
     "views": []
    },
    "89b43f46245540c29fe0792321f42264": {
     "views": []
    },
    "8a1663787c044c0f96d846abb3a351ca": {
     "views": []
    },
    "8c82f506ea2b4d5dbdfc9c8c44e46a19": {
     "views": []
    },
    "8cd80450af6d4f789b784d0e6328db0f": {
     "views": []
    },
    "8d50d16273de4322ab5395e7af879207": {
     "views": []
    },
    "8d537822e4fa4f5dba17bba21ce7664c": {
     "views": []
    },
    "8d5a60c29fe4413ab0455372919a0926": {
     "views": []
    },
    "8e8e695a66f74e28bd921623fb1d09a4": {
     "views": []
    },
    "8ffb1b86c868454f9924abe3ec945944": {
     "views": []
    },
    "9060fcc1bac84c65964c36e38e3e94ca": {
     "views": []
    },
    "90bab8de698e4d36a8410490be94d3f2": {
     "views": []
    },
    "914156d9e89f4b40b72a8b8d3e9d1f22": {
     "views": []
    },
    "96347795b96f402381cecbe64525c177": {
     "views": []
    },
    "9772461266ff4c4ea81321dbbd9aee25": {
     "views": []
    },
    "985e4fa976c342ecbb2cd6ca82035d21": {
     "views": []
    },
    "9be634b61cf04480b3bed371bd3f1499": {
     "views": []
    },
    "9dd629678a1646d69319e5f734c123dc": {
     "views": []
    },
    "9ea13338114b405b9ffc6afb8b44b888": {
     "views": []
    },
    "9f7e117be01c4ba3a311e17d99a071a5": {
     "views": []
    },
    "a0939d7337c74f8e83d1bf2c48feea9f": {
     "views": []
    },
    "a0fa804fa3b0479380fbad6b09808f0a": {
     "views": []
    },
    "a21f12e41f6347f189d11c8ef68753d6": {
     "views": []
    },
    "a325b4fea2e649eb8889e66c7f274ce4": {
     "views": []
    },
    "a3db18f1fe4649049b17b0d2187eaf21": {
     "views": []
    },
    "a4e1f80be5b54a2fab9186388a19185e": {
     "views": []
    },
    "a86c31e038ec433f879d4aa55ccef15b": {
     "views": [
      {
       "cell_index": 13
      }
     ]
    },
    "a8b06e983ff046ac913315905ef52b18": {
     "views": []
    },
    "aaf97c8eb2f643b397b334f832b3eb13": {
     "views": []
    },
    "ac8fae1a734249b4a94b5f2aa5bd5be7": {
     "views": []
    },
    "ad62243091564ae48fd2f4d46d9fe429": {
     "views": []
    },
    "b0f810126f7e41aa970ac9f39b03c33e": {
     "views": []
    },
    "b2307532fd1d4adda2673e9a167ba227": {
     "views": []
    },
    "b31bcf60362f43e782e7e77835dd09b7": {
     "views": []
    },
    "b3295b69ca414f45be2b0ca037cf0c54": {
     "views": []
    },
    "b35bd53c8746472997626d9d725ac234": {
     "views": []
    },
    "b576afc94a6d4844890853ef0d509332": {
     "views": []
    },
    "b5b1a1f169cc4d96b1995e904de70245": {
     "views": []
    },
    "b5bd9b12f7b843cf96b78ab9d9e36f8e": {
     "views": []
    },
    "bb19b9058c8a457eb67567babc05e2d8": {
     "views": []
    },
    "bb2523bef5834dc8b37de2993dc4da2f": {
     "views": []
    },
    "bb9209e595e14c158af91a18d434033a": {
     "views": []
    },
    "c09a35c89bf24ccba822a015962b1f3d": {
     "views": []
    },
    "c212e6468f6a4c179b8d2eb7bde2a228": {
     "views": []
    },
    "c403c88aba5f42c1a1c915588abf7761": {
     "views": []
    },
    "c41767e1348a407d9abb97757826e33d": {
     "views": []
    },
    "c4aff235b1f54a6b8759494c03e95fa2": {
     "views": []
    },
    "c9697a32744643bbafc129de3ba52680": {
     "views": []
    },
    "cb62f5dacd3849f395f9b416e4c47473": {
     "views": []
    },
    "cbb4c13fdc344c68986948a0d5e94580": {
     "views": []
    },
    "cc3252c654f143de8fb8b7b96c10a153": {
     "views": []
    },
    "ccb0bc87df5b4b5f80840316fcb3abc0": {
     "views": []
    },
    "cd1d7f28710643a3b4ec6521b3341fb7": {
     "views": []
    },
    "cd5e7e3d88c44728bddcb99e4488b689": {
     "views": []
    },
    "cd70415b5b1d4ccea0d9c53c1eecb64b": {
     "views": []
    },
    "ce5fb849c2fb49efa90ed3e5070ce23a": {
     "views": []
    },
    "ce8a58f5c2584b1c84f6e7cc6a3d265a": {
     "views": []
    },
    "ceb9df7b4dde4ba9aea18c45c576e4dc": {
     "views": []
    },
    "cf0c8e4bb58e427a9494991a1f21eeeb": {
     "views": []
    },
    "d2a9727ce1694d6ea0c65af7dd324e10": {
     "views": []
    },
    "d50fff2b4db84394830984b576fc7fad": {
     "views": []
    },
    "d55738c041c842c09651e256fb26248f": {
     "views": []
    },
    "d560241eb5ff43938fbb63a744af77f6": {
     "views": []
    },
    "d6aef2392bc64184afb9ef397d57d6be": {
     "views": []
    },
    "d7339b93726a4045be80a1a92b16fea4": {
     "views": []
    },
    "d747fcfec10241dd9b317fe46b753176": {
     "views": []
    },
    "d85c50292ae84c48b14442c08d25c557": {
     "views": []
    },
    "d9342456700f41f8bfc5dffed1a19f6d": {
     "views": []
    },
    "d997227b4d7f4aaca83d634692bc5ef2": {
     "views": []
    },
    "dc4d0fa182cc4373b359a4f0efef10bb": {
     "views": []
    },
    "e2b2c8e5b1c84092bf453fbf1bb06f21": {
     "views": []
    },
    "e3d75e4c736e47199fb42a4cda5047ce": {
     "views": []
    },
    "e6bd5eeeebaf4ce4a2eed925577b31a2": {
     "views": []
    },
    "e6cb945b86df4ef3a82c025fc4340e88": {
     "views": []
    },
    "e97810054e194d099a77a084d7707bd7": {
     "views": [
      {
       "cell_index": 12
      }
     ]
    },
    "ea88011fa5de49658ca975cfcfe7116c": {
     "views": []
    },
    "ed335e7cd0384b56a229b61645da0d63": {
     "views": []
    },
    "ed77442671a6450e850b9914e841aa45": {
     "views": []
    },
    "ee6518cccd0f42f9a1ca84b65268d158": {
     "views": []
    },
    "ee6a6906a83e4bbc86cdb028eccba01d": {
     "views": []
    },
    "f062ab3bd9554092868671d8f055874b": {
     "views": []
    },
    "f16302cf07ac498da6faf4d5a32e492d": {
     "views": []
    },
    "f5726b03e6b047f1bac1ab573f47ba92": {
     "views": []
    },
    "f5d90ec3d42c4f7f8d815fad3d5234d5": {
     "views": []
    },
    "f6b1f8d063aa4c43b1b53c332d9be2ea": {
     "views": []
    },
    "f6ca3b79b003442d807b623d7d172b65": {
     "views": []
    },
    "f7eb49d5926c4b1e88dd439cbd7846aa": {
     "views": []
    },
    "f7f27590c9ae45a59e00691aa35111b7": {
     "views": []
    },
    "f95b966a75c648c498519db1554a6622": {
     "views": []
    },
    "facf7667fd5a401b881d5e357da6f93f": {
     "views": []
    },
    "fca71d052c7844efadcd9e65b71d693f": {
     "views": []
    },
    "fd1572bf65664de1ba415b3efd0f0138": {
     "views": []
    },
    "fdee2f248ca44338b4e95bf541150672": {
     "views": []
    }
   },
   "version": "1.1.1"
  }
 },
 "nbformat": 4,
 "nbformat_minor": 1
}
