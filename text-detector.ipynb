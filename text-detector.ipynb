{
 "cells": [
  {
   "cell_type": "code",
   "execution_count": 34,
   "metadata": {
    "collapsed": false
   },
   "outputs": [],
   "source": [
    "import tensorflow\n",
    "import keras\n",
    "import matplotlib.pyplot as plt\n",
    "%matplotlib inline"
   ]
  },
  {
   "cell_type": "code",
   "execution_count": 7,
   "metadata": {
    "collapsed": true
   },
   "outputs": [],
   "source": [
    "from keras.models import Sequential\n",
    "from keras.layers.core import Activation\n",
    "from keras.layers.convolutional import Convolution2D, MaxPooling2D\n",
    "\n",
    "def text_detection_model(channels=8):\n",
    "    \"\"\" Defines a simple CNN that inputs an image and outputs a binary mask. \"\"\"\n",
    "\n",
    "    input_shape = (1, None, None)\n",
    "    activation = 'relu'\n",
    "\n",
    "    model = Sequential()\n",
    "    model.add(Convolution2D(channels, 5, 5, border_mode='same', input_shape=input_shape))\n",
    "    model.add(Activation(activation))\n",
    "    model.add(Convolution2D(channels, 5, 5, border_mode='same'))\n",
    "    model.add(Activation(activation))\n",
    "    model.add(MaxPooling2D(pool_size=(2, 2)))\n",
    "    model.add(Convolution2D(channels, 5, 5, border_mode='same'))\n",
    "    model.add(Activation(activation))\n",
    "    model.add(Convolution2D(channels * 2, 5, 5, border_mode='same'))\n",
    "    model.add(Activation(activation))\n",
    "    model.add(Convolution2D(channels * 2, 5, 5, border_mode='same'))\n",
    "    model.add(Activation(activation))\n",
    "    model.add(Convolution2D(256, 1, 1, border_mode='same'))\n",
    "    model.add(Activation(activation))\n",
    "    model.add(Convolution2D(1, 1, 1, border_mode='same'))\n",
    "    model.add(Activation('sigmoid'))\n",
    "\n",
    "    model.compile(loss='binary_crossentropy', optimizer='adam')\n",
    "\n",
    "    return model\n"
   ]
  },
  {
   "cell_type": "code",
   "execution_count": 8,
   "metadata": {
    "collapsed": true
   },
   "outputs": [],
   "source": [
    "model = text_detection_model()"
   ]
  },
  {
   "cell_type": "code",
   "execution_count": 17,
   "metadata": {
    "collapsed": false
   },
   "outputs": [
    {
     "data": {
      "text/plain": [
       "'3999 4768 4387 9817'"
      ]
     },
     "execution_count": 17,
     "metadata": {},
     "output_type": "execute_result"
    }
   ],
   "source": [
    "import random\n",
    "\n",
    "def credit_card_number():\n",
    "    return ' '.join(['{0:04d}'.format(random.randint(0, 9999)) for _ in range(4)])\n",
    "    \n",
    "credit_card_number()  "
   ]
  },
  {
   "cell_type": "code",
   "execution_count": 196,
   "metadata": {
    "collapsed": false
   },
   "outputs": [],
   "source": [
    "import glob\n",
    "import sys\n",
    "import numpy as np\n",
    "import scipy.ndimage\n",
    "from PIL import Image, ImageFont, ImageDraw\n",
    "from image import normalize_pixels\n",
    "\n",
    "def load_fonts(folder, font_size=24):\n",
    "    font_files = glob.iglob('%s/*.ttf' % folder)\n",
    "    fonts = [ImageFont.truetype(font_file, font_size) for font_file in font_files]\n",
    "    return fonts\n",
    "\n",
    "def load_backgrounds(folder):\n",
    "    image_files = glob.iglob('{}/*.jpg'.format(folder))\n",
    "    backgrounds = [scipy.ndimage.imread(image_file, flatten=True) for image_file in image_files]\n",
    "    return backgrounds\n",
    "\n",
    "def rotate_image(image, rotation_sigma=15):\n",
    "    angle = 0\n",
    "    if rotation_sigma > 0 and np.random.rand() > 0.1:\n",
    "        angle = np.random.randn() * rotation_sigma\n",
    "        if abs(angle) > 0.1:\n",
    "            image = scipy.ndimage.interpolation.rotate(image, angle=angle, order=1, mode='constant', cval=0)\n",
    "            image[image < 0.05] = 0\n",
    "    return image, angle\n",
    "\n",
    "def credit_card_image(number_string, fonts, backgrounds=None, image_size=(160, 160), image_padding=20):\n",
    "    \n",
    "    font = random.choice(fonts)\n",
    "    \n",
    "    text_image = Image.new('F', (image_size[0] + image_padding * 2, \n",
    "                                 image_size[1] + image_padding * 2), color=0)\n",
    "    \n",
    "    draw = ImageDraw.Draw(text_image)\n",
    "    text_position = (np.random.randint(-image_size[0], image_size[0]),\n",
    "                     np.random.randint(-image_size[1], image_size[1]))\n",
    "    \n",
    "    draw.text(text_position, number_string, 1, font=font)\n",
    "    text_image = np.array(text_image, dtype=np.float32)\n",
    "    text_image, angle = rotate_image(text_image)\n",
    "    text_image = text_image[image_padding:text_image.shape[0] - image_padding,\n",
    "                            image_padding:text_image.shape[1] - image_padding]\n",
    "    \n",
    "    image = text_image.copy()\n",
    "    image = normalize_pixels(image, invert=False)\n",
    "    \n",
    "    mask = text_image > 0.25\n",
    "    text_image[mask] = 1\n",
    "    text_image[np.logical_not(mask)] = 0\n",
    "    \n",
    "    return image, text_image\n",
    "    "
   ]
  },
  {
   "cell_type": "code",
   "execution_count": 197,
   "metadata": {
    "collapsed": false
   },
   "outputs": [
    {
     "name": "stdout",
     "output_type": "stream",
     "text": [
      "[<PIL.ImageFont.FreeTypeFont object at 0x122ca6b00>, <PIL.ImageFont.FreeTypeFont object at 0x121d906a0>]\n"
     ]
    }
   ],
   "source": [
    "fonts = load_fonts('fonts')\n",
    "print(fonts)"
   ]
  },
  {
   "cell_type": "code",
   "execution_count": 198,
   "metadata": {
    "collapsed": false
   },
   "outputs": [
    {
     "name": "stdout",
     "output_type": "stream",
     "text": [
      "2836 0626 2462 2229\n"
     ]
    }
   ],
   "source": [
    "cc_number = credit_card_number()\n",
    "print(cc_number)\n",
    "image, target = credit_card_image(cc_number, fonts=fonts)"
   ]
  },
  {
   "cell_type": "code",
   "execution_count": 199,
   "metadata": {
    "collapsed": false
   },
   "outputs": [
    {
     "data": {
      "text/plain": [
       "<matplotlib.image.AxesImage at 0x122f699b0>"
      ]
     },
     "execution_count": 199,
     "metadata": {},
     "output_type": "execute_result"
    },
    {
     "data": {
      "image/png": "[encoded data removed]",
      "text/plain": [
       "<matplotlib.figure.Figure at 0x122c9f208>"
      ]
     },
     "metadata": {},
     "output_type": "display_data"
    }
   ],
   "source": [
    "plt.figure()\n",
    "plt.imshow(image, cmap=plt.cm.gray_r, interpolation='bilinear')"
   ]
  },
  {
   "cell_type": "code",
   "execution_count": null,
   "metadata": {
    "collapsed": true
   },
   "outputs": [],
   "source": []
  },
  {
   "cell_type": "code",
   "execution_count": null,
   "metadata": {
    "collapsed": true
   },
   "outputs": [],
   "source": []
  }
 ],
 "metadata": {
  "kernelspec": {
   "display_name": "Python 3",
   "language": "python",
   "name": "python3"
  },
  "language_info": {
   "codemirror_mode": {
    "name": "ipython",
    "version": 3
   },
   "file_extension": ".py",
   "mimetype": "text/x-python",
   "name": "python",
   "nbconvert_exporter": "python",
   "pygments_lexer": "ipython3",
   "version": "3.5.1"
  }
 },
 "nbformat": 4,
 "nbformat_minor": 0
}
