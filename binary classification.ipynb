{
 "cells": [
  {
   "cell_type": "code",
   "execution_count": 1,
   "metadata": {
    "collapsed": false
   },
   "outputs": [
    {
     "name": "stderr",
     "output_type": "stream",
     "text": [
      "Using TensorFlow backend.\n"
     ]
    }
   ],
   "source": [
    "import tensorflow\n",
    "import keras\n",
    "import matplotlib.pyplot as plt\n",
    "import numpy as np\n",
    "%matplotlib inline"
   ]
  },
  {
   "cell_type": "code",
   "execution_count": 2,
   "metadata": {
    "collapsed": false
   },
   "outputs": [],
   "source": [
    "def get_data(num_samples_per_class):\n",
    "    x1 = np.random.normal(size=(num_samples_per_class, 2))\n",
    "    x2 = np.random.normal(size=(num_samples_per_class, 2)) + 2\n",
    "    \n",
    "    y1 = np.zeros(num_samples_per_class)\n",
    "    y2 = np.ones(num_samples_per_class)\n",
    "    return np.vstack((x1, x2)), np.hstack((y1, y2))"
   ]
  },
  {
   "cell_type": "code",
   "execution_count": 3,
   "metadata": {
    "collapsed": false
   },
   "outputs": [
    {
     "name": "stdout",
     "output_type": "stream",
     "text": [
      "(200, 2) (200,)\n"
     ]
    }
   ],
   "source": [
    "num_samples_per_class = 100\n",
    "x, y = get_data(num_samples_per_class)\n",
    "\n",
    "print(x.shape, y.shape)"
   ]
  },
  {
   "cell_type": "code",
   "execution_count": 4,
   "metadata": {
    "collapsed": false
   },
   "outputs": [
    {
     "data": {
      "text/plain": [
       "<matplotlib.collections.PathCollection at 0x114b91cf8>"
      ]
     },
     "execution_count": 4,
     "metadata": {},
     "output_type": "execute_result"
    },
    {
     "data": {
      "image/png": "[encoded data removed]",
      "text/plain": [
       "<matplotlib.figure.Figure at 0x114b912e8>"
      ]
     },
     "metadata": {},
     "output_type": "display_data"
    }
   ],
   "source": [
    "plt.figure()\n",
    "plt.scatter(x[:100, 0], x[:100, 1])\n",
    "plt.scatter(x[100:, 0], x[100:, 1], color='r')"
   ]
  },
  {
   "cell_type": "code",
   "execution_count": 5,
   "metadata": {
    "collapsed": false
   },
   "outputs": [
    {
     "name": "stdout",
     "output_type": "stream",
     "text": [
      "____________________________________________________________________________________________________\n",
      "Layer (type)                     Output Shape          Param #     Connected to                     \n",
      "====================================================================================================\n",
      "dense_1 (Dense)                  (None, 16)            48          dense_input_1[0][0]              \n",
      "____________________________________________________________________________________________________\n",
      "activation_1 (Activation)        (None, 16)            0           dense_1[0][0]                    \n",
      "____________________________________________________________________________________________________\n",
      "dense_2 (Dense)                  (None, 16)            272         activation_1[0][0]               \n",
      "____________________________________________________________________________________________________\n",
      "activation_2 (Activation)        (None, 16)            0           dense_2[0][0]                    \n",
      "____________________________________________________________________________________________________\n",
      "dense_3 (Dense)                  (None, 1)             17          activation_2[0][0]               \n",
      "____________________________________________________________________________________________________\n",
      "activation_3 (Activation)        (None, 1)             0           dense_3[0][0]                    \n",
      "====================================================================================================\n",
      "Total params: 337\n",
      "____________________________________________________________________________________________________\n"
     ]
    }
   ],
   "source": [
    "from keras.models import Sequential\n",
    "from keras.layers import Dense, Activation\n",
    "\n",
    "model = Sequential([\n",
    "    Dense(16, input_dim=2),\n",
    "    Activation('relu'),\n",
    "    Dense(16),\n",
    "    Activation('relu'),\n",
    "    Dense(1),\n",
    "    Activation('sigmoid'),\n",
    "])\n",
    "model.summary()"
   ]
  },
  {
   "cell_type": "code",
   "execution_count": 6,
   "metadata": {
    "collapsed": false
   },
   "outputs": [],
   "source": [
    "sgd = keras.optimizers.SGD(lr=0.01)\n",
    "model.compile(loss='binary_crossentropy',\n",
    "              optimizer=sgd,\n",
    "              metrics=['accuracy'])"
   ]
  },
  {
   "cell_type": "code",
   "execution_count": 7,
   "metadata": {
    "collapsed": false
   },
   "outputs": [
    {
     "name": "stdout",
     "output_type": "stream",
     "text": [
      "[ 0.  0.  0.  0.  0.  0.  0.  0.  0.  0.]\n",
      "[ 1.  1.  1.  1.  1.  1.  1.  1.  1.  1.]\n"
     ]
    }
   ],
   "source": [
    "X_train, Y_train = get_data(num_samples_per_class)\n",
    "\n",
    "print(Y_train[0:10])\n",
    "print(Y_train[100:110])\n",
    "\n",
    "X_val, Y_val = get_data(num_samples_per_class)"
   ]
  },
  {
   "cell_type": "code",
   "execution_count": 8,
   "metadata": {
    "collapsed": false,
    "scrolled": true
   },
   "outputs": [
    {
     "name": "stdout",
     "output_type": "stream",
     "text": [
      "Epoch 1/10\n",
      "200/200 [==============================] - 0s - loss: 0.7668 - acc: 0.4700     \n",
      "Epoch 2/10\n",
      "200/200 [==============================] - 0s - loss: 0.7138 - acc: 0.4200     \n",
      "Epoch 3/10\n",
      "200/200 [==============================] - 0s - loss: 0.6821 - acc: 0.3800     \n",
      "Epoch 4/10\n",
      "200/200 [==============================] - 0s - loss: 0.6582 - acc: 0.4050     \n",
      "Epoch 5/10\n",
      "200/200 [==============================] - 0s - loss: 0.6402 - acc: 0.5400     \n",
      "Epoch 6/10\n",
      "200/200 [==============================] - 0s - loss: 0.6248 - acc: 0.6800     \n",
      "Epoch 7/10\n",
      "200/200 [==============================] - 0s - loss: 0.6110 - acc: 0.7050     \n",
      "Epoch 8/10\n",
      "200/200 [==============================] - 0s - loss: 0.5985 - acc: 0.7200     \n",
      "Epoch 9/10\n",
      "200/200 [==============================] - 0s - loss: 0.5866 - acc: 0.7500     \n",
      "Epoch 10/10\n",
      "200/200 [==============================] - 0s - loss: 0.5756 - acc: 0.7600     \n"
     ]
    }
   ],
   "source": [
    "history = model.fit(X_train, Y_train, batch_size=16, nb_epoch=10, verbose=1)"
   ]
  },
  {
   "cell_type": "code",
   "execution_count": 9,
   "metadata": {
    "collapsed": false
   },
   "outputs": [
    {
     "data": {
      "text/plain": [
       "<matplotlib.collections.PathCollection at 0x1180ced68>"
      ]
     },
     "execution_count": 9,
     "metadata": {},
     "output_type": "execute_result"
    },
    {
     "data": {
      "image/png": "[encoded data removed]",
      "text/plain": [
       "<matplotlib.figure.Figure at 0x11809a128>"
      ]
     },
     "metadata": {},
     "output_type": "display_data"
    }
   ],
   "source": [
    "X_test, Y_test = get_data(200)\n",
    "\n",
    "plt.figure()\n",
    "plt.scatter(X_test[Y_test==0, 0], X_test[Y_test==0, 1])\n",
    "plt.scatter(X_test[Y_test==1, 0], X_test[Y_test==1, 1], color='r')"
   ]
  },
  {
   "cell_type": "code",
   "execution_count": 10,
   "metadata": {
    "collapsed": false
   },
   "outputs": [
    {
     "data": {
      "text/plain": [
       "<matplotlib.collections.PathCollection at 0x1181a3ef0>"
      ]
     },
     "execution_count": 10,
     "metadata": {},
     "output_type": "execute_result"
    },
    {
     "data": {
      "image/png": "[encoded data removed]",
      "text/plain": [
       "<matplotlib.figure.Figure at 0x117cda710>"
      ]
     },
     "metadata": {},
     "output_type": "display_data"
    }
   ],
   "source": [
    "Y_predicted = np.int32(np.round(model.predict(X_test)[:, 0]))\n",
    "plt.scatter(X_test[Y_predicted==0, 0], X_test[Y_predicted==0, 1])\n",
    "plt.scatter(X_test[Y_predicted==1, 0], X_test[Y_predicted==1, 1], color='r')"
   ]
  },
  {
   "cell_type": "code",
   "execution_count": null,
   "metadata": {
    "collapsed": true
   },
   "outputs": [],
   "source": []
  }
 ],
 "metadata": {
  "kernelspec": {
   "display_name": "Python 3",
   "language": "python",
   "name": "python3"
  },
  "language_info": {
   "codemirror_mode": {
    "name": "ipython",
    "version": 3
   },
   "file_extension": ".py",
   "mimetype": "text/x-python",
   "name": "python",
   "nbconvert_exporter": "python",
   "pygments_lexer": "ipython3",
   "version": "3.5.1"
  }
 },
 "nbformat": 4,
 "nbformat_minor": 0
}
